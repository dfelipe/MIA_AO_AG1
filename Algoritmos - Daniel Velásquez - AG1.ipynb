{
 "cells": [
  {
   "cell_type": "markdown",
   "id": "d9924248-b59b-4c9c-95c9-1fae95630d89",
   "metadata": {},
   "source": [
    "# AG1- Actividad Guiada 1\n",
    "## Daniel Velásquez"
   ]
  },
  {
   "cell_type": "code",
   "execution_count": 2,
   "id": "eda105c6-1d35-436b-a0ac-5921d907d890",
   "metadata": {
    "tags": []
   },
   "outputs": [
    {
     "name": "stdout",
     "output_type": "stream",
     "text": [
      "Mover disco desde 1 a 2\n",
      "Mover disco desde 1 a 3\n",
      "Mover disco desde 2 a 3\n",
      "Mover disco desde 1 a 2\n",
      "Mover disco desde 3 a 1\n",
      "Mover disco desde 3 a 2\n",
      "Mover disco desde 1 a 2\n",
      "Mover disco desde 1 a 3\n",
      "Mover disco desde 2 a 3\n",
      "Mover disco desde 2 a 1\n",
      "Mover disco desde 3 a 1\n",
      "Mover disco desde 2 a 3\n",
      "Mover disco desde 1 a 2\n",
      "Mover disco desde 1 a 3\n",
      "Mover disco desde 2 a 3\n"
     ]
    }
   ],
   "source": [
    "def torres_de_hanoi(n, origen,destino,auxiliar):\n",
    "    if n==1:\n",
    "        print(f\"Mover disco desde {origen} a {destino}\")\n",
    "        return\n",
    "    \n",
    "    torres_de_hanoi(n-1,origen,auxiliar,destino)\n",
    "    print(f\"Mover disco desde {origen} a {destino}\")\n",
    "    torres_de_hanoi(n-1,auxiliar,destino,origen)\n",
    "    \n",
    "torres_de_hanoi(4,1,3,2)"
   ]
  },
  {
   "cell_type": "code",
   "execution_count": 5,
   "id": "9f814287-0906-4a9c-9312-6840b4a28450",
   "metadata": {
    "tags": []
   },
   "outputs": [
    {
     "name": "stdout",
     "output_type": "stream",
     "text": [
      "Sistema:  [11, 5, 1]\n"
     ]
    },
    {
     "data": {
      "text/plain": [
       "[3, 0, 2]"
      ]
     },
     "execution_count": 5,
     "metadata": {},
     "output_type": "execute_result"
    }
   ],
   "source": [
    "#Cambio de monedas\n",
    "\n",
    "def cambio_monedas(cantidad, sistema):\n",
    "    print(\"Sistema: \", sistema)\n",
    "\n",
    "    solucion = [0 for i in range(len(sistema))]\n",
    "    valor_acumulado=0\n",
    "    \n",
    "    for i in range(len(sistema)):\n",
    "        monedas = int((cantidad-valor_acumulado)/sistema[i])\n",
    "        solucion[i]=monedas\n",
    "        valor_acumulado+=monedas*sistema[i]\n",
    "        if valor_acumulado==cantidad: return solucion\n",
    "    \n",
    "    return solucion\n",
    "\n",
    "sistema = [11,5,1]\n",
    "cambio_monedas(35, sistema)"
   ]
  },
  {
   "cell_type": "markdown",
   "id": "d6a814d2-f1bf-427c-ae3b-f94502a10bb8",
   "metadata": {},
   "source": [
    "El modelo funciona correctamente con otros sistemas monetarios. La limitación (1) se encuentra cuando no son valores enteros, sería necesario en ese caso tener una función de redondeo para entregar valores correspondientes al sistema. La limitación (2) podría ocurrir si no existen monedas \"infinitas\" porque se podría dar el caso de no tener el cambio exacto."
   ]
  },
  {
   "cell_type": "code",
   "execution_count": 346,
   "id": "b15e134f-7141-416b-a713-ffceb89561a2",
   "metadata": {
    "tags": []
   },
   "outputs": [
    {
     "name": "stdout",
     "output_type": "stream",
     "text": [
      "Distancia más corta: 0 de los puntos 5670 y 5670, en las posiciones 16 y 373\n"
     ]
    }
   ],
   "source": [
    "# Problema de los dos puntos más cercanos en una dimensión\n",
    "\n",
    "import random\n",
    "\n",
    "def puntos_cercanos_fuerza(puntos):\n",
    "    menor_dis=10000\n",
    "    cercanos=[0,0]\n",
    "    px=0\n",
    "    py=0\n",
    "    \n",
    "    for posx, x in enumerate(puntos):\n",
    "        for y in range(posx+1,len(puntos)):\n",
    "            d=abs(puntos[y]-x)\n",
    "            if d<menor_dis:\n",
    "                menor_dis=d\n",
    "                cercanos=[x,puntos[y]]\n",
    "                px=posx\n",
    "                py=y\n",
    "    return menor_dis, cercanos, px, py\n",
    "\n",
    "LISTA_1D=[random.randrange(1,10000) for x in range(1000)]\n",
    "LISTA_2D=[(random.randrange(1,10000),random.randrange(1,10000)) for x in range(1000)]\n",
    "\n",
    "dd, puntos, ppx, ppy=puntos_cercanos_fuerza(LISTA_1D)\n",
    "print(f\"Distancia más corta: {dd} de los puntos {puntos[0]} y {puntos[1]}, en las posiciones {ppx} y {ppy}\")"
   ]
  },
  {
   "cell_type": "code",
   "execution_count": null,
   "id": "291e3a7e-996a-4ac3-92e2-3ff9aa0d10ae",
   "metadata": {},
   "outputs": [],
   "source": []
  }
 ],
 "metadata": {
  "kernelspec": {
   "display_name": "Python 3 (ipykernel)",
   "language": "python",
   "name": "python3"
  },
  "language_info": {
   "codemirror_mode": {
    "name": "ipython",
    "version": 3
   },
   "file_extension": ".py",
   "mimetype": "text/x-python",
   "name": "python",
   "nbconvert_exporter": "python",
   "pygments_lexer": "ipython3",
   "version": "3.9.6"
  }
 },
 "nbformat": 4,
 "nbformat_minor": 5
}
